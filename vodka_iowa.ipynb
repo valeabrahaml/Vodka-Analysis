{
 "cells": [
  {
   "cell_type": "code",
   "execution_count": 1,
   "metadata": {},
   "outputs": [
    {
     "name": "stderr",
     "output_type": "stream",
     "text": [
      "C:\\Users\\valea\\AppData\\Local\\Temp\\ipykernel_28208\\1600261870.py:6: DtypeWarning: Columns (6) have mixed types. Specify dtype option on import or set low_memory=False.\n",
      "  data = pd.read_csv('iowa_vodka.csv')\n"
     ]
    }
   ],
   "source": [
    "# Load CSV file in pandas\n",
    "import pandas as pd\n",
    "import numpy as np\n",
    "\n",
    "# Load the data\n",
    "data = pd.read_csv('iowa_vodka.csv')"
   ]
  },
  {
   "cell_type": "code",
   "execution_count": 2,
   "metadata": {},
   "outputs": [
    {
     "data": {
      "text/html": [
       "<div>\n",
       "<style scoped>\n",
       "    .dataframe tbody tr th:only-of-type {\n",
       "        vertical-align: middle;\n",
       "    }\n",
       "\n",
       "    .dataframe tbody tr th {\n",
       "        vertical-align: top;\n",
       "    }\n",
       "\n",
       "    .dataframe thead th {\n",
       "        text-align: right;\n",
       "    }\n",
       "</style>\n",
       "<table border=\"1\" class=\"dataframe\">\n",
       "  <thead>\n",
       "    <tr style=\"text-align: right;\">\n",
       "      <th></th>\n",
       "      <th>Invoice/Item Number</th>\n",
       "      <th>Date</th>\n",
       "      <th>Store Number</th>\n",
       "      <th>Store Name</th>\n",
       "      <th>Address</th>\n",
       "      <th>City</th>\n",
       "      <th>Zip Code</th>\n",
       "      <th>Store Location</th>\n",
       "      <th>County Number</th>\n",
       "      <th>County</th>\n",
       "      <th>...</th>\n",
       "      <th>Item Number</th>\n",
       "      <th>Item Description</th>\n",
       "      <th>Pack</th>\n",
       "      <th>Bottle Volume (ml)</th>\n",
       "      <th>State Bottle Cost</th>\n",
       "      <th>State Bottle Retail</th>\n",
       "      <th>Bottles Sold</th>\n",
       "      <th>Sale (Dollars)</th>\n",
       "      <th>Volume Sold (Liters)</th>\n",
       "      <th>Volume Sold (Gallons)</th>\n",
       "    </tr>\n",
       "  </thead>\n",
       "  <tbody>\n",
       "    <tr>\n",
       "      <th>0</th>\n",
       "      <td>S03399000002</td>\n",
       "      <td>2012-01-03</td>\n",
       "      <td>3762</td>\n",
       "      <td>WINE AND SPIRITS GALLERY</td>\n",
       "      <td>7690 HICKMAN RD</td>\n",
       "      <td>WINDSOR HEIGHTS</td>\n",
       "      <td>50322</td>\n",
       "      <td>NaN</td>\n",
       "      <td>77.0</td>\n",
       "      <td>POLK</td>\n",
       "      <td>...</td>\n",
       "      <td>37348</td>\n",
       "      <td>PHILLIPS VODKA</td>\n",
       "      <td>6</td>\n",
       "      <td>1750</td>\n",
       "      <td>7.31</td>\n",
       "      <td>10.97</td>\n",
       "      <td>6</td>\n",
       "      <td>65.82</td>\n",
       "      <td>10.50</td>\n",
       "      <td>2.77</td>\n",
       "    </tr>\n",
       "    <tr>\n",
       "      <th>1</th>\n",
       "      <td>S03389300052</td>\n",
       "      <td>2012-01-03</td>\n",
       "      <td>3858</td>\n",
       "      <td>HAROLDS JACK N JILL / DAVENPORT</td>\n",
       "      <td>6723 NW BLVD UNIT 2</td>\n",
       "      <td>DAVENPORT</td>\n",
       "      <td>52806</td>\n",
       "      <td>POINT (-90.609747 41.589369)</td>\n",
       "      <td>82.0</td>\n",
       "      <td>SCOTT</td>\n",
       "      <td>...</td>\n",
       "      <td>34870</td>\n",
       "      <td>STOLI RAZBERI (RASPBERRY)</td>\n",
       "      <td>12</td>\n",
       "      <td>750</td>\n",
       "      <td>12.24</td>\n",
       "      <td>18.37</td>\n",
       "      <td>1</td>\n",
       "      <td>18.37</td>\n",
       "      <td>0.75</td>\n",
       "      <td>0.20</td>\n",
       "    </tr>\n",
       "    <tr>\n",
       "      <th>2</th>\n",
       "      <td>S03371300002</td>\n",
       "      <td>2012-01-03</td>\n",
       "      <td>4443</td>\n",
       "      <td>PALO MINI MART</td>\n",
       "      <td>1204 1ST ST</td>\n",
       "      <td>PALO</td>\n",
       "      <td>52324</td>\n",
       "      <td>POINT (-91.795808 42.070316)</td>\n",
       "      <td>57.0</td>\n",
       "      <td>LINN</td>\n",
       "      <td>...</td>\n",
       "      <td>34422</td>\n",
       "      <td>GREY GOOSE VODKA</td>\n",
       "      <td>6</td>\n",
       "      <td>1000</td>\n",
       "      <td>21.77</td>\n",
       "      <td>32.66</td>\n",
       "      <td>6</td>\n",
       "      <td>195.96</td>\n",
       "      <td>6.00</td>\n",
       "      <td>1.59</td>\n",
       "    </tr>\n",
       "    <tr>\n",
       "      <th>3</th>\n",
       "      <td>S03393400035</td>\n",
       "      <td>2012-01-03</td>\n",
       "      <td>2624</td>\n",
       "      <td>HY-VEE #2 / DUBUQUE</td>\n",
       "      <td>2395 NW ARTERIAL RD</td>\n",
       "      <td>DUBUQUE</td>\n",
       "      <td>52002</td>\n",
       "      <td>POINT (-90.741064 42.516633)</td>\n",
       "      <td>31.0</td>\n",
       "      <td>DUBUQUE</td>\n",
       "      <td>...</td>\n",
       "      <td>36886</td>\n",
       "      <td>MCCORMICK VODKA</td>\n",
       "      <td>12</td>\n",
       "      <td>750</td>\n",
       "      <td>3.30</td>\n",
       "      <td>4.96</td>\n",
       "      <td>12</td>\n",
       "      <td>59.52</td>\n",
       "      <td>9.00</td>\n",
       "      <td>2.38</td>\n",
       "    </tr>\n",
       "    <tr>\n",
       "      <th>4</th>\n",
       "      <td>S03401600100</td>\n",
       "      <td>2012-01-03</td>\n",
       "      <td>2522</td>\n",
       "      <td>HY-VEE WINE AND SPIRITS / SPIRIT LAK</td>\n",
       "      <td>HWY 9 &amp; 71</td>\n",
       "      <td>SPIRIT LAKE</td>\n",
       "      <td>51360</td>\n",
       "      <td>NaN</td>\n",
       "      <td>30.0</td>\n",
       "      <td>DICKINSON</td>\n",
       "      <td>...</td>\n",
       "      <td>36904</td>\n",
       "      <td>MCCORMICK VODKA PET</td>\n",
       "      <td>24</td>\n",
       "      <td>375</td>\n",
       "      <td>1.76</td>\n",
       "      <td>2.63</td>\n",
       "      <td>6</td>\n",
       "      <td>15.78</td>\n",
       "      <td>2.25</td>\n",
       "      <td>0.59</td>\n",
       "    </tr>\n",
       "  </tbody>\n",
       "</table>\n",
       "<p>5 rows × 24 columns</p>\n",
       "</div>"
      ],
      "text/plain": [
       "  Invoice/Item Number        Date  Store Number  \\\n",
       "0        S03399000002  2012-01-03          3762   \n",
       "1        S03389300052  2012-01-03          3858   \n",
       "2        S03371300002  2012-01-03          4443   \n",
       "3        S03393400035  2012-01-03          2624   \n",
       "4        S03401600100  2012-01-03          2522   \n",
       "\n",
       "                             Store Name              Address             City  \\\n",
       "0              WINE AND SPIRITS GALLERY      7690 HICKMAN RD  WINDSOR HEIGHTS   \n",
       "1       HAROLDS JACK N JILL / DAVENPORT  6723 NW BLVD UNIT 2        DAVENPORT   \n",
       "2                        PALO MINI MART          1204 1ST ST             PALO   \n",
       "3                   HY-VEE #2 / DUBUQUE  2395 NW ARTERIAL RD          DUBUQUE   \n",
       "4  HY-VEE WINE AND SPIRITS / SPIRIT LAK           HWY 9 & 71      SPIRIT LAKE   \n",
       "\n",
       "  Zip Code                Store Location  County Number     County  ...  \\\n",
       "0    50322                           NaN           77.0       POLK  ...   \n",
       "1    52806  POINT (-90.609747 41.589369)           82.0      SCOTT  ...   \n",
       "2    52324  POINT (-91.795808 42.070316)           57.0       LINN  ...   \n",
       "3    52002  POINT (-90.741064 42.516633)           31.0    DUBUQUE  ...   \n",
       "4    51360                           NaN           30.0  DICKINSON  ...   \n",
       "\n",
       "   Item Number           Item Description  Pack Bottle Volume (ml)  \\\n",
       "0        37348             PHILLIPS VODKA     6               1750   \n",
       "1        34870  STOLI RAZBERI (RASPBERRY)    12                750   \n",
       "2        34422           GREY GOOSE VODKA     6               1000   \n",
       "3        36886            MCCORMICK VODKA    12                750   \n",
       "4        36904        MCCORMICK VODKA PET    24                375   \n",
       "\n",
       "   State Bottle Cost State Bottle Retail  Bottles Sold  Sale (Dollars)  \\\n",
       "0               7.31               10.97             6           65.82   \n",
       "1              12.24               18.37             1           18.37   \n",
       "2              21.77               32.66             6          195.96   \n",
       "3               3.30                4.96            12           59.52   \n",
       "4               1.76                2.63             6           15.78   \n",
       "\n",
       "   Volume Sold (Liters)  Volume Sold (Gallons)  \n",
       "0                 10.50                   2.77  \n",
       "1                  0.75                   0.20  \n",
       "2                  6.00                   1.59  \n",
       "3                  9.00                   2.38  \n",
       "4                  2.25                   0.59  \n",
       "\n",
       "[5 rows x 24 columns]"
      ]
     },
     "execution_count": 2,
     "metadata": {},
     "output_type": "execute_result"
    }
   ],
   "source": [
    "data.head()"
   ]
  },
  {
   "cell_type": "code",
   "execution_count": 3,
   "metadata": {},
   "outputs": [
    {
     "data": {
      "text/plain": [
       "(7016736, 24)"
      ]
     },
     "execution_count": 3,
     "metadata": {},
     "output_type": "execute_result"
    }
   ],
   "source": [
    "# total rows and columns\n",
    "data.shape"
   ]
  },
  {
   "cell_type": "code",
   "execution_count": 4,
   "metadata": {},
   "outputs": [
    {
     "data": {
      "text/plain": [
       "Invoice/Item Number       object\n",
       "Date                      object\n",
       "Store Number               int64\n",
       "Store Name                object\n",
       "Address                   object\n",
       "City                      object\n",
       "Zip Code                  object\n",
       "Store Location            object\n",
       "County Number            float64\n",
       "County                    object\n",
       "Category                 float64\n",
       "Category Name             object\n",
       "Vendor Number            float64\n",
       "Vendor Name               object\n",
       "Item Number                int64\n",
       "Item Description          object\n",
       "Pack                       int64\n",
       "Bottle Volume (ml)         int64\n",
       "State Bottle Cost        float64\n",
       "State Bottle Retail      float64\n",
       "Bottles Sold               int64\n",
       "Sale (Dollars)           float64\n",
       "Volume Sold (Liters)     float64\n",
       "Volume Sold (Gallons)    float64\n",
       "dtype: object"
      ]
     },
     "execution_count": 4,
     "metadata": {},
     "output_type": "execute_result"
    }
   ],
   "source": [
    "# check the data types\n",
    "data.dtypes"
   ]
  },
  {
   "cell_type": "code",
   "execution_count": 5,
   "metadata": {},
   "outputs": [
    {
     "name": "stdout",
     "output_type": "stream",
     "text": [
      "2984\n",
      "3177\n",
      "483\n",
      "99\n",
      "99\n",
      "11\n",
      "173\n",
      "2121\n",
      "1778\n"
     ]
    }
   ],
   "source": [
    "# finding unique number stores, cities, countries, categories, vendor numbers, item numbers,\n",
    "print(data['Store Number'].nunique())\n",
    "print(data['Store Name'].nunique())\n",
    "print(data['City'].nunique())\n",
    "print(data['County'].nunique())\n",
    "print(data['County Number'].nunique())\n",
    "print(data['Category'].nunique())\n",
    "print(data['Vendor Number'].nunique())\n",
    "print(data['Item Number'].nunique())\n",
    "print(data['Item Description'].nunique())"
   ]
  },
  {
   "cell_type": "code",
   "execution_count": 6,
   "metadata": {},
   "outputs": [
    {
     "ename": "SyntaxError",
     "evalue": "f-string: unmatched '[' (655267785.py, line 2)",
     "output_type": "error",
     "traceback": [
      "\u001b[1;36m  Cell \u001b[1;32mIn[6], line 2\u001b[1;36m\u001b[0m\n\u001b[1;33m    print(f'Invoice: {data['Invoice/Item Number'].isnull().sum()}')\u001b[0m\n\u001b[1;37m                            ^\u001b[0m\n\u001b[1;31mSyntaxError\u001b[0m\u001b[1;31m:\u001b[0m f-string: unmatched '['\n"
     ]
    }
   ],
   "source": [
    "# checking missing values in the data for each column\n",
    "print(f'Invoice: {data['Invoice/Item Number'].isnull().sum()}')\n",
    "print(f'Date: {data['Date'].isnull().sum()}')\n",
    "print(f'Store Number: {data['Store Number'].isnull().sum()}')\n",
    "print(f'Store Name: {data['Store Name'].isnull().sum()}')\n",
    "print(f'Address: {data['Address'].isnull().sum()}')\n",
    "print(f'City: {data['City'].isnull().sum()}')\n",
    "print(f'Zip Code: {data['Zip Code'].isnull().sum()}')\n",
    "print(f'Store Location: {data['Store Location'].isnull().sum()}')\n",
    "print(f'County Number: {data['County Number'].isnull().sum()}')\n",
    "print(f'County: {data['County'].isnull().sum()}')\n",
    "print(f'Category: {data['Category'].isnull().sum()}')\n",
    "print(f'Category Name: {data['Category Name'].isnull().sum()}')\n",
    "print(f'Vendor Number: {data['Vendor Number'].isnull().sum()}')\n",
    "print(f'Vendor Name: {data['Vendor Name'].isnull().sum()}')\n",
    "print(f'Item Number: {data['Item Number'].isnull().sum()}')\n",
    "print(f'Item Description: {data['Item Description'].isnull().sum()}')\n",
    "print(f'Pack: {data['Pack'].isnull().sum()}')\n",
    "print(f'Bottle Volume (ml): {data['Bottle Volume (ml)'].isnull().sum()}')\n",
    "print(f'State Bottle Cost: {data['State Bottle Cost'].isnull().sum()}')\n",
    "print(f'State Bottle Retail: {data['State Bottle Retail'].isnull().sum()}')\n",
    "print(f'Bottles Sold: {data['Bottles Sold'].isnull().sum()}')\n",
    "print(f'Sale (Dollars): {data['Sale (Dollars)'].isnull().sum()}')\n",
    "print(f'Volume Sold (Liters): {data['Volume Sold (Liters)'].isnull().sum()}')\n",
    "print(f'Volume Sold (Gallons): {data['Volume Sold (Gallons)'].isnull().sum()}')\n",
    "\n"
   ]
  },
  {
   "cell_type": "code",
   "execution_count": 7,
   "metadata": {},
   "outputs": [],
   "source": [
    "# impute county missing values with the mode looking at the city\n",
    "data['County'] = data.groupby('City')['County'].transform(lambda x: x.fillna(x.mode()[0]))"
   ]
  },
  {
   "cell_type": "code",
   "execution_count": 25,
   "metadata": {},
   "outputs": [
    {
     "name": "stdout",
     "output_type": "stream",
     "text": [
      "County: 21126\n",
      "0.0030108016034805928\n"
     ]
    }
   ],
   "source": [
    "print(f'County: {data['County'].isnull().sum()}')\n",
    "print(data['County'].isnull().sum()/7016736)"
   ]
  },
  {
   "cell_type": "code",
   "execution_count": 8,
   "metadata": {},
   "outputs": [],
   "source": [
    "# drop rows were county is still missing\n",
    "data = data.dropna(subset=['County'])"
   ]
  },
  {
   "cell_type": "code",
   "execution_count": 9,
   "metadata": {},
   "outputs": [],
   "source": [
    "# change datatypes of column date\n",
    "data['Date'] = pd.to_datetime(data['Date'])"
   ]
  },
  {
   "cell_type": "code",
   "execution_count": 10,
   "metadata": {},
   "outputs": [],
   "source": [
    "# Create column day of week\n",
    "data['DayOfWeek'] = data['Date'].dt.day_name()"
   ]
  },
  {
   "cell_type": "code",
   "execution_count": 11,
   "metadata": {},
   "outputs": [],
   "source": [
    "# Create column weekend (boolean)\n",
    "data['Weekend'] = data['DayOfWeek'].isin(['Saturday', 'Sunday'])"
   ]
  },
  {
   "cell_type": "code",
   "execution_count": 12,
   "metadata": {},
   "outputs": [],
   "source": [
    "# Create column month\n",
    "data['Month'] = data['Date'].dt.month_name()"
   ]
  },
  {
   "cell_type": "code",
   "execution_count": 13,
   "metadata": {},
   "outputs": [
    {
     "name": "stdout",
     "output_type": "stream",
     "text": [
      "<class 'pandas.core.frame.DataFrame'>\n",
      "Int64Index: 6995610 entries, 0 to 7016735\n",
      "Data columns (total 27 columns):\n",
      " #   Column                 Dtype         \n",
      "---  ------                 -----         \n",
      " 0   Invoice/Item Number    object        \n",
      " 1   Date                   datetime64[ns]\n",
      " 2   Store Number           int64         \n",
      " 3   Store Name             object        \n",
      " 4   Address                object        \n",
      " 5   City                   object        \n",
      " 6   Zip Code               object        \n",
      " 7   Store Location         object        \n",
      " 8   County Number          float64       \n",
      " 9   County                 object        \n",
      " 10  Category               float64       \n",
      " 11  Category Name          object        \n",
      " 12  Vendor Number          float64       \n",
      " 13  Vendor Name            object        \n",
      " 14  Item Number            int64         \n",
      " 15  Item Description       object        \n",
      " 16  Pack                   int64         \n",
      " 17  Bottle Volume (ml)     int64         \n",
      " 18  State Bottle Cost      float64       \n",
      " 19  State Bottle Retail    float64       \n",
      " 20  Bottles Sold           int64         \n",
      " 21  Sale (Dollars)         float64       \n",
      " 22  Volume Sold (Liters)   float64       \n",
      " 23  Volume Sold (Gallons)  float64       \n",
      " 24  DayOfWeek              object        \n",
      " 25  Weekend                bool          \n",
      " 26  Month                  object        \n",
      "dtypes: bool(1), datetime64[ns](1), float64(8), int64(5), object(12)\n",
      "memory usage: 1.4+ GB\n"
     ]
    }
   ],
   "source": [
    "data.info()"
   ]
  },
  {
   "cell_type": "code",
   "execution_count": 14,
   "metadata": {},
   "outputs": [
    {
     "data": {
      "text/plain": [
       "(Timestamp('2012-01-03 00:00:00'), Timestamp('2023-11-30 00:00:00'))"
      ]
     },
     "execution_count": 14,
     "metadata": {},
     "output_type": "execute_result"
    }
   ],
   "source": [
    "# min and max date\n",
    "data['Date'].min(), data['Date'].max()"
   ]
  },
  {
   "cell_type": "code",
   "execution_count": 15,
   "metadata": {},
   "outputs": [],
   "source": [
    "# Create column holiday, taking into account the holidays in the US (New Year's Day, Independence Day, Thanksgiving, Christmas, labor day, memorial day) from 2012 to 2023\n",
    "holidays = ['2012-01-01', '2012-07-04', '2012-11-22', '2012-12-25', '2013-01-01', '2013-07-04', '2013-11-28', '2013-12-25', '2014-01-01', '2014-07-04', '2014-11-27', '2014-12-25', '2015-01-01', '2015-07-04', '2015-11-26', '2015-12-25', '2016-01-01', '2016-07-04', '2016-11-24', '2016-12-25', '2017-01-01', '2017-07-04', '2017-11-23', '2017-12-25', '2018-01-01', '2018-07-04', '2018-11-22', '2018-12-25', '2019-01-01', '2019-07-04', '2019-11-28', '2019-12-25', '2020-01-01', '2020-07-04', '2020-11-26', '2020-12-25', '2021-01-01', '2021-07-04', '2021-11-25', '2021-12-25', '2022-01-01', '2022-07-04', '2022-11-24', '2022-12-25', '2023-01-01', '2023-07-04', '2023-11-23', '2023-12-25']\n",
    "data['Holiday'] = data['Date'].isin(holidays)"
   ]
  },
  {
   "cell_type": "code",
   "execution_count": 7,
   "metadata": {},
   "outputs": [],
   "source": [
    "# Save again csv file\n",
    "data.to_csv('iowa_vodka.csv', index=False)"
   ]
  },
  {
   "cell_type": "code",
   "execution_count": 16,
   "metadata": {},
   "outputs": [
    {
     "data": {
      "text/plain": [
       "Store Number\n",
       "2106          HILLSTREET NEWS AND TOBACCO\n",
       "2113                       JAMBOREE FOODS\n",
       "2130                 SYCAMORE CONVENIENCE\n",
       "2132                     SPIRITS AND SUCH\n",
       "2152                   DUGANS SUPERMARKET\n",
       "                       ...               \n",
       "10298            CASEY'S #4308 / CHARITON\n",
       "10300           ESSENTIALS / CEDAR RAPIDS\n",
       "10301    FLOYD FOOD AND FUEL / SIOUX CITY\n",
       "10302     SIOUX-PER CENTER / SIOUX CENTER\n",
       "10303              DECORAH MART / DECORAH\n",
       "Name: Store Name, Length: 2983, dtype: object"
      ]
     },
     "execution_count": 16,
     "metadata": {},
     "output_type": "execute_result"
    }
   ],
   "source": [
    "# Group data by store number and display the store name/names per store number\n",
    "store = data.groupby('Store Number')['Store Name']\n",
    "store.first()"
   ]
  },
  {
   "cell_type": "code",
   "execution_count": 17,
   "metadata": {},
   "outputs": [
    {
     "name": "stdout",
     "output_type": "stream",
     "text": [
      "<class 'pandas.core.frame.DataFrame'>\n",
      "Int64Index: 6995610 entries, 0 to 7016735\n",
      "Data columns (total 28 columns):\n",
      " #   Column                 Dtype         \n",
      "---  ------                 -----         \n",
      " 0   Invoice/Item Number    object        \n",
      " 1   Date                   datetime64[ns]\n",
      " 2   Store Number           int64         \n",
      " 3   Store Name             object        \n",
      " 4   Address                object        \n",
      " 5   City                   object        \n",
      " 6   Zip Code               object        \n",
      " 7   Store Location         object        \n",
      " 8   County Number          float64       \n",
      " 9   County                 object        \n",
      " 10  Category               float64       \n",
      " 11  Category Name          object        \n",
      " 12  Vendor Number          float64       \n",
      " 13  Vendor Name            object        \n",
      " 14  Item Number            int64         \n",
      " 15  Item Description       object        \n",
      " 16  Pack                   int64         \n",
      " 17  Bottle Volume (ml)     int64         \n",
      " 18  State Bottle Cost      float64       \n",
      " 19  State Bottle Retail    float64       \n",
      " 20  Bottles Sold           int64         \n",
      " 21  Sale (Dollars)         float64       \n",
      " 22  Volume Sold (Liters)   float64       \n",
      " 23  Volume Sold (Gallons)  float64       \n",
      " 24  DayOfWeek              object        \n",
      " 25  Weekend                bool          \n",
      " 26  Month                  object        \n",
      " 27  Holiday                bool          \n",
      "dtypes: bool(2), datetime64[ns](1), float64(8), int64(5), object(12)\n",
      "memory usage: 1.4+ GB\n"
     ]
    }
   ],
   "source": [
    "# Filter stores that have more than one name associated with them (number)\n",
    "data.info()\n"
   ]
  }
 ],
 "metadata": {
  "kernelspec": {
   "display_name": "Python 3",
   "language": "python",
   "name": "python3"
  },
  "language_info": {
   "codemirror_mode": {
    "name": "ipython",
    "version": 3
   },
   "file_extension": ".py",
   "mimetype": "text/x-python",
   "name": "python",
   "nbconvert_exporter": "python",
   "pygments_lexer": "ipython3",
   "version": "3.11.9"
  }
 },
 "nbformat": 4,
 "nbformat_minor": 2
}
